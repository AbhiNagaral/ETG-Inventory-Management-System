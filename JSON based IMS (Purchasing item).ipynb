{
 "cells": [
  {
   "cell_type": "code",
   "execution_count": 1,
   "metadata": {},
   "outputs": [],
   "source": [
    "import json"
   ]
  },
  {
   "cell_type": "code",
   "execution_count": 2,
   "metadata": {},
   "outputs": [],
   "source": [
    "fd=open('Record.json','r')\n",
    "r=fd.read()\n",
    "fd.close()\n",
    "\n",
    "record=json.loads(r)"
   ]
  },
  {
   "cell_type": "code",
   "execution_count": 3,
   "metadata": {},
   "outputs": [
    {
     "data": {
      "text/plain": [
       "{'1001': {'name': 'Kitkat',\n",
       "  'price': 15,\n",
       "  'qty': 100,\n",
       "  'discount': 10,\n",
       "  'validity': 3},\n",
       " '1002': {'name': 'Oreo',\n",
       "  'price': 25,\n",
       "  'qty': 75,\n",
       "  'discount': 5,\n",
       "  'validity': 6},\n",
       " '1003': {'name': 'Cake',\n",
       "  'price': 300,\n",
       "  'qty': 30,\n",
       "  'discount': 15,\n",
       "  'validity': 1},\n",
       " '1004': {'name': 'Coke',\n",
       "  'price': 15,\n",
       "  'qty': 150,\n",
       "  'discount': 0,\n",
       "  'validity': 1},\n",
       " '1005': {'name': 'Earphone',\n",
       "  'price': 700,\n",
       "  'qty': 400,\n",
       "  'discount': 25,\n",
       "  'validity': 12},\n",
       " '1006': {'name': 'Airpods',\n",
       "  'price': 2000,\n",
       "  'qty': 50,\n",
       "  'discount': 17,\n",
       "  'validity': 24},\n",
       " '1007': {'name': 'Soap',\n",
       "  'price': 25,\n",
       "  'qty': 250,\n",
       "  'discount': 20,\n",
       "  'validity': 2},\n",
       " '1008': {'name': 'Pot',\n",
       "  'price': 650,\n",
       "  'qty': 90,\n",
       "  'discount': 10,\n",
       "  'validity': 25},\n",
       " '1009': {'name': 'Cookies',\n",
       "  'price': 50,\n",
       "  'qty': 30,\n",
       "  'discount': 0,\n",
       "  'validity': 4},\n",
       " '1010': {'name': 'Wheat',\n",
       "  'price': 40,\n",
       "  'qty': 260,\n",
       "  'discount': 5,\n",
       "  'validity': 2},\n",
       " '1011': {'name': 'Apple',\n",
       "  'price': 50,\n",
       "  'qty': 120,\n",
       "  'discount': 10,\n",
       "  'validity': 1},\n",
       " '1012': {'name': 'Mango',\n",
       "  'price': 350,\n",
       "  'qty': 50,\n",
       "  'discount': 10,\n",
       "  'validity': 1},\n",
       " '1013': {'name': 'Berries',\n",
       "  'price': 170,\n",
       "  'qty': 70,\n",
       "  'discount': 3,\n",
       "  'validity': 1},\n",
       " '1014': {'name': 'Chings',\n",
       "  'price': 20,\n",
       "  'qty': 75,\n",
       "  'discount': 0,\n",
       "  'validity': 1},\n",
       " '1015': {'name': 'Rice',\n",
       "  'price': 65,\n",
       "  'qty': 54,\n",
       "  'discount': 20,\n",
       "  'validity': 1},\n",
       " '1016': {'name': 'Realme',\n",
       "  'price': 8000,\n",
       "  'qty': 50,\n",
       "  'discount': 17,\n",
       "  'validity': 24},\n",
       " '1017': {'name': 'MI',\n",
       "  'price': 9500,\n",
       "  'qty': 68,\n",
       "  'discount': 20,\n",
       "  'validity': 24},\n",
       " '1018': {'name': 'OnePlus',\n",
       "  'price': 28000,\n",
       "  'qty': 45,\n",
       "  'discount': 25,\n",
       "  'validity': 24},\n",
       " '1019': {'name': 'HP',\n",
       "  'price': 65000,\n",
       "  'qty': 25,\n",
       "  'discount': 10,\n",
       "  'validity': 36},\n",
       " '1020': {'name': 'Dell',\n",
       "  'price': 75000,\n",
       "  'qty': 40,\n",
       "  'discount': 7,\n",
       "  'validity': 36},\n",
       " '1021': {'name': 'Boat',\n",
       "  'price': 2500,\n",
       "  'qty': 68,\n",
       "  'discount': 55,\n",
       "  'validity': 18},\n",
       " '1022': {'name': 'Mivi',\n",
       "  'price': 1990,\n",
       "  'qty': 35,\n",
       "  'discount': 0,\n",
       "  'validity': 8},\n",
       " '1023': {'name': 'JBL',\n",
       "  'price': 3500,\n",
       "  'qty': 45,\n",
       "  'discount': 10,\n",
       "  'validity': 5},\n",
       " '1024': {'name': 'Sonic',\n",
       "  'price': 1000,\n",
       "  'qty': 60,\n",
       "  'discount': 15,\n",
       "  'validity': 2},\n",
       " '1025': {'name': 'Kookabura',\n",
       "  'price': 1200,\n",
       "  'qty': 15,\n",
       "  'discount': 0,\n",
       "  'validity': 24},\n",
       " '1026': {'name': 'Vector',\n",
       "  'price': 890,\n",
       "  'qty': 54,\n",
       "  'discount': 10,\n",
       "  'validity': 2},\n",
       " '1027': {'name': 'Gloves',\n",
       "  'price': 120,\n",
       "  'qty': 45,\n",
       "  'discount': 0,\n",
       "  'validity': 2},\n",
       " '1028': {'name': 'Lakme',\n",
       "  'price': 2000,\n",
       "  'qty': 60,\n",
       "  'discount': 10,\n",
       "  'validity': 2},\n",
       " '1029': {'name': 'Deo',\n",
       "  'price': 900,\n",
       "  'qty': 50,\n",
       "  'discount': 25,\n",
       "  'validity': 2},\n",
       " '1030': {'name': 'Maybelline',\n",
       "  'price': 1500,\n",
       "  'qty': 50,\n",
       "  'discount': 20,\n",
       "  'validity': 2}}"
      ]
     },
     "execution_count": 3,
     "metadata": {},
     "output_type": "execute_result"
    }
   ],
   "source": [
    "record"
   ]
  },
  {
   "cell_type": "code",
   "execution_count": 13,
   "metadata": {},
   "outputs": [
    {
     "name": "stdout",
     "output_type": "stream",
     "text": [
      "Enter the product id: 1025\n",
      "Product Name:  Kookabura\n",
      "Price:  1200\n",
      "Discount:  0\n",
      "Enter y to purchase product: y\n",
      "Enter the no. of quantity: 2\n",
      "Billing amount =  2400.0\n"
     ]
    }
   ],
   "source": [
    "prod_id=input((\"Enter the product id: \"))\n",
    "if prod_id in record:\n",
    "    print(\"Product Name: \",record[prod_id]['name'])\n",
    "    print(\"Price: \",record[prod_id]['price'])\n",
    "    print(\"Discount: \",record[prod_id]['discount'])\n",
    "    purchase=input(\"Enter y to purchase product: \")\n",
    "    if(purchase=='y'or purchase=='Y'):\n",
    "        ui_qty=int(input((\"Enter the no. of quantity: \")))\n",
    "    else:\n",
    "        print(\"Product not purchased\")\n",
    "        ui_qty=0\n",
    "    total=record[prod_id]['price']*ui_qty\n",
    "    total_disc=total-(total*(record[prod_id]['discount'])/100)\n",
    "    print(\"Billing amount = \",total_disc)\n",
    "else:print(\"Product id not found\")"
   ]
  },
  {
   "cell_type": "code",
   "execution_count": 14,
   "metadata": {},
   "outputs": [],
   "source": [
    "record[prod_id]['qty']-=ui_qty"
   ]
  },
  {
   "cell_type": "code",
   "execution_count": 15,
   "metadata": {},
   "outputs": [],
   "source": [
    "new=json.dumps(record)\n",
    "\n",
    "fd=open('Record.json','w')\n",
    "fd.write(new)\n",
    "fd.close()"
   ]
  },
  {
   "cell_type": "code",
   "execution_count": null,
   "metadata": {},
   "outputs": [],
   "source": []
  },
  {
   "cell_type": "markdown",
   "metadata": {},
   "source": [
    "# Sales"
   ]
  },
  {
   "cell_type": "code",
   "execution_count": 1,
   "metadata": {},
   "outputs": [],
   "source": [
    "#fd= open('Sales.json','w')\n",
    "#fd.close()"
   ]
  },
  {
   "cell_type": "code",
   "execution_count": 16,
   "metadata": {},
   "outputs": [],
   "source": [
    "sales={'prod_id':prod_id,'qty':ui_qty,'total bill':total,'discounted bill':total_disc}"
   ]
  },
  {
   "cell_type": "code",
   "execution_count": 17,
   "metadata": {},
   "outputs": [],
   "source": [
    "new_sales=json.dumps(sales)"
   ]
  },
  {
   "cell_type": "code",
   "execution_count": 18,
   "metadata": {},
   "outputs": [],
   "source": [
    "fd=open('Sales.json','a')\n",
    "fd.write(new_sales)\n",
    "fd.close()"
   ]
  },
  {
   "cell_type": "code",
   "execution_count": 19,
   "metadata": {},
   "outputs": [],
   "source": [
    "fd= open('Sales.json','r')\n",
    "r=fd.read()\n",
    "fd.close()"
   ]
  },
  {
   "cell_type": "code",
   "execution_count": 20,
   "metadata": {},
   "outputs": [
    {
     "data": {
      "text/plain": [
       "'{\"prod_id\": \"1011\", \"qty\": 12, \"total bill\": 600, \"discounted bill\": 540.0}{\"prod_id\": \"1025\", \"qty\": 2, \"total bill\": 2400, \"discounted bill\": 2400.0}'"
      ]
     },
     "execution_count": 20,
     "metadata": {},
     "output_type": "execute_result"
    }
   ],
   "source": [
    "r"
   ]
  },
  {
   "cell_type": "code",
   "execution_count": null,
   "metadata": {},
   "outputs": [],
   "source": []
  }
 ],
 "metadata": {
  "kernelspec": {
   "display_name": "Python 3",
   "language": "python",
   "name": "python3"
  },
  "language_info": {
   "codemirror_mode": {
    "name": "ipython",
    "version": 3
   },
   "file_extension": ".py",
   "mimetype": "text/x-python",
   "name": "python",
   "nbconvert_exporter": "python",
   "pygments_lexer": "ipython3",
   "version": "3.8.5"
  }
 },
 "nbformat": 4,
 "nbformat_minor": 4
}
